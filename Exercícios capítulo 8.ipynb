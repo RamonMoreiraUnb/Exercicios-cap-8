{
 "cells": [
  {
   "cell_type": "markdown",
   "metadata": {},
   "source": [
    "#### Ramon Moreira Gonçalves-180036980"
   ]
  },
  {
   "cell_type": "markdown",
   "metadata": {},
   "source": [
    "### Sorteio"
   ]
  },
  {
   "cell_type": "code",
   "execution_count": 1,
   "metadata": {},
   "outputs": [
    {
     "name": "stdout",
     "output_type": "stream",
     "text": [
      "Escreva o número de sua matricula180036980\n",
      "Você deverá entregar os exercícios:  [165, 161, 164]\n"
     ]
    }
   ],
   "source": [
    "\n",
    "\n",
    "\n",
    "import random\n",
    "\n",
    "def escolhe(matricula):\n",
    "    random.seed(matricula)\n",
    "    cap1 = (2,8,9,11,12,15,16,18,20,21,22,24,26,27,28,30,31,32)    \n",
    "    cap2 = (36,40,44,45,46,48,50,51,53,55,56,57,59,60)\n",
    "    cap3 = (63,64,65,68,71,72,74,76,78,80,81,84)\n",
    "    cap4 = (85,86,87,89,91,92,94,97,99,101,103,104,106)\n",
    "    cap5 = (111,115,117,118,119,122,123,124,126,127,131,132,133)\n",
    "    cap6 = (138,139,140,141,144,147,148)\n",
    "    cap7 = (152,153,154,155,157,160,161,164,165,166,168,171,172)\n",
    "    return(random.sample(cap7, k=3))\n",
    "\n",
    "print(\"Você deverá entregar os exercícios: \", escolhe(input(\"Escreva o número de sua matricula\")))"
   ]
  },
  {
   "cell_type": "markdown",
   "metadata": {},
   "source": [
    "### Exercise 161:What’s that Element Again?\n",
    "\n",
    "Write a program that reads a file containing information about chemical elements\n",
    "and stores it in one or more appropriate data structures. Then your program should\n",
    "read and process input from the user. If the user enters an integer then your program\n",
    "should display the symbol and name of the element with the number of protons\n",
    "entered. If the user enters a non-integer value then your program should display the\n",
    "number of protons for the element with that name or symbol. Your program should\n",
    "display an appropriate error message if no element exists for the name, symbol or\n",
    "number of protons entered. Continue to read input from the user until a blank line is\n",
    "entered. "
   ]
  },
  {
   "cell_type": "code",
   "execution_count": 53,
   "metadata": {},
   "outputs": [
    {
     "name": "stdout",
     "output_type": "stream",
     "text": [
      "Insira o número de prótons, um símbolo ou nome(em ingês) de um elemento químico: 25\n",
      "O símbolo e nome do elemento químico com o número de prótons inserido é, respectivamente, Mn e Manganese.\n",
      "Insira o número de prótons, um símbolo ou nome(em ingês) de um elemento químico(vazio para encerrar): Pb\n",
      "O número de prótons do elemento químico inserido é 82.\n",
      "Insira o número de prótons, um símbolo ou nome(em ingês) de um elemento químico(vazio para encerrar): Iridium\n",
      "O número de prótons do elemento químico inserido é 77.\n",
      "Insira o número de prótons, um símbolo ou nome(em ingês) de um elemento químico(vazio para encerrar): \n"
     ]
    }
   ],
   "source": [
    "##\n",
    "# Mostrando informação do elemento de acordo com a entrada do usuário\n",
    "#\n",
    "\n",
    "# Lendo o arquivo\n",
    "elementos = open(\"elements.txt\", \"r\")\n",
    "#Linha por linha\n",
    "elemento = elementos.readline()\n",
    "# Criando 3 dicionários, para o número, símbolo e nome.\n",
    "dic_num = {}\n",
    "dic_simb = {}\n",
    "dic_nome = {}\n",
    "# Lendo todas as linhas do arquivo\n",
    "while elemento != \"\":\n",
    "    elemento = elemento.replace(\"\\n\", \"\")\n",
    "    elemento_sep = elemento.split(\",\")\n",
    "    # Atribuindo valores aos dicionários\n",
    "    dic_num[elemento_sep[0]] = elemento_sep[1:]\n",
    "    dic_simb[elemento_sep[1]] = elemento_sep[0]\n",
    "    dic_nome[elemento_sep[2]] = elemento_sep[0]\n",
    "    elemento = elementos.readline()\n",
    "elementos.close()\n",
    "#Entrada do usuário\n",
    "entrada = input(\"Insira o número de prótons, um símbolo ou nome(em ingês) de um elemento químico: \")\n",
    "# Condição para o programa encerrar\n",
    "while entrada != \"\":\n",
    "    # Teste para ver se o usuário inseriu um número de elemento\n",
    "    try:\n",
    "        print(\"O símbolo e nome do elemento químico com o número de prótons inserido é, respectivamente, %s e %s.\"% \n",
    "              (dic_num[entrada][0],dic_num[entrada][1]))\n",
    "    except KeyError:\n",
    "        # Teste se o usuário inseriu um símbolo ou nome válido\n",
    "        try:\n",
    "            if len(entrada) <= 2:\n",
    "                num = dic_simb[entrada.capitalize()]\n",
    "                \n",
    "            else:\n",
    "                num = dic_nome[entrada.capitalize()]\n",
    "            print(\"O número de prótons do elemento químico inserido é %s.\" % num)\n",
    "        # Mensagem de erro\n",
    "        except KeyError:\n",
    "            print(\"Não existe um elemento químico para a entrada!\")\n",
    "    \n",
    "    entrada = input(\"Insira o número de prótons, um símbolo ou nome(em ingês) de um elemento químico(vazio para encerrar): \")\n",
    "    \n",
    "\n"
   ]
  },
  {
   "cell_type": "markdown",
   "metadata": {},
   "source": [
    "### Exercise 164: Gender Neutral Names\n",
    "\n",
    "Some names, like Ben, Jonathan and Andrew are normally only used for boys while\n",
    "names like Rebecca and Flora are normally only used for girls. Other names, like\n",
    "Chris and Alex, may be used for both boys and girls.\n",
    "Write a program that determines and displays all of the baby names that were used\n",
    "for both boys and girls in a year specified by the user. Your program should generate\n",
    "an appropriate message if there were no gender neutral names in the selected year.\n",
    "Display an appropriate error message if you do not have data for the year requested\n",
    "by the user. Additional details about the baby names data set are included in Exercise\n",
    "163.\n"
   ]
  },
  {
   "cell_type": "code",
   "execution_count": 78,
   "metadata": {},
   "outputs": [
    {
     "name": "stdout",
     "output_type": "stream",
     "text": [
      "Insira um ano para verificar se há nome(s) neutro(s): 1992\n",
      "Para o ano de 1992, o(s) seguinte(s) nome(s) foi(foram) usado(s) para ambos os sexos: \n",
      "  Jordan\n",
      "  Taylor\n"
     ]
    }
   ],
   "source": [
    "##\n",
    "# Mostrando todos os nomes que foram usados em ambos os sexos\n",
    "#\n",
    "primeiro_ano = 1900\n",
    "ultimo_ano = 2012\n",
    "## Lendo todos os nomes do arquivo\n",
    "#\n",
    "def carrega_e_compara(meninos_arquivo,meninas_arquivo):\n",
    "    # Lista com os nomes\n",
    "    meninos = []\n",
    "    meninas = []\n",
    "    nome_neutro = []\n",
    "    # Abrindo os arquivos\n",
    "    inf_meninos = open(meninos_arquivo, \"r\")\n",
    "    inf_meninas = open(meninas_arquivo, \"r\")\n",
    "    # Separando por linhas\n",
    "    linha_meninos = inf_meninos.readline()\n",
    "    linha_meninas = inf_meninas.readline()\n",
    "    # Lendo todos os nomes de meninos e adicionando à lista correspondente\n",
    "    while linha_meninos != \"\":\n",
    "        partes = linha_meninos.split()\n",
    "        nome = partes[0]\n",
    "        meninos.append(nome)\n",
    "        linha_meninos = inf_meninos.readline()\n",
    "    inf_meninos.close()\n",
    "    # Lendo todos os nomes de meninas e adicionando à lista correspondente\n",
    "    while linha_meninas != \"\":\n",
    "        partes = linha_meninas.split()\n",
    "        nome = partes[0]\n",
    "        meninas.append(nome)\n",
    "        linha_meninas = inf_meninas.readline()\n",
    "    inf_meninas.close()\n",
    "    # Comparando os nomes para ver se há correspondências\n",
    "    for menino in meninos:\n",
    "        if menino in meninas:\n",
    "            nome_neutro.append(menino)\n",
    "    # Retornando a lista com nomes neutros\n",
    "    return(nome_neutro)\n",
    "        \n",
    "# Função principal que printa os nomes neutros\n",
    "def main():\n",
    "    # Entrada do usuário\n",
    "    ano = input(\"Insira um ano para verificar se há nome(s) neutro(s): \")\n",
    "    # Verificando se há dados para o ano inserido\n",
    "    if int(ano) not in range(primeiro_ano, ultimo_ano +1):\n",
    "        print(\"Não tenho dados para o ano inserido!\")\n",
    "    # Atribuindo o nome do arquivo de acordo com o ano\n",
    "    else:\n",
    "        meninas_arquivo = \"BabyNames/\" + ano + \\\n",
    "        \"_GirlsNames.txt\"\n",
    "        meninos_arquivo = \"BabyNames/\" + ano + \\\n",
    "        \"_BoysNames.txt\"\n",
    "        # Rodando a função que compara os nomes\n",
    "        lista_neutra = carrega_e_compara(meninos_arquivo, meninas_arquivo)\n",
    "        # Mensagem de erro caso a lista esteja vazia\n",
    "        if len(lista_neutra) == 0:\n",
    "            print(\"Não encontramos nomes com gênero neutro para o ano inserido.\")\n",
    "        # Print com os nomes neutros\n",
    "        else:\n",
    "            print(\"Para o ano de %s, o(s) seguinte(s) nome(s) foi(foram) usado(s) para ambos os sexos: \" % ano)\n",
    "            for nome in lista_neutra:\n",
    "                print(\" \", nome)\n",
    "# Chamando a função principal           \n",
    "main()"
   ]
  },
  {
   "cell_type": "markdown",
   "metadata": {},
   "source": [
    "### Exercise 165: Most Births in a given Time Period\n",
    "\n",
    "Write a program that uses the baby names data set described in Exercise 163 to\n",
    "determine which names were used most often within a time period. Have the user\n",
    "supply the first and last years of the range to analyze. Display the boy’s name and\n",
    "the girl’s name given to the most children during the indicated years."
   ]
  },
  {
   "cell_type": "code",
   "execution_count": 88,
   "metadata": {
    "scrolled": true
   },
   "outputs": [
    {
     "name": "stdout",
     "output_type": "stream",
     "text": [
      "Insira o primeiro ano do intervalo: 1990\n",
      "Insira o último ano do intervalo: 2010\n",
      "O nome mais dado para meninos, entre 1990 e 2010, é Michael.\n",
      "O nome mais dado para meninas, entre 1990 e 2010, é Emily.\n"
     ]
    }
   ],
   "source": [
    "##\n",
    "# Mostrando o nome mais utilizado para cada sexo, no intervalo intervalo de tempo dado.\n",
    "#\n",
    "\n",
    "## Contando a frequência para cada nome, por sexo.\n",
    "#\n",
    "def carrega_e_conta(meninos_arquivo,meninas_arquivo, dic_meninos, dic_meninas):\n",
    "    # Abrindo os arquivos\n",
    "    inf_meninos = open(meninos_arquivo, \"r\")\n",
    "    inf_meninas = open(meninas_arquivo, \"r\")\n",
    "    # Separando por linhas\n",
    "    linha_meninos = inf_meninos.readline()\n",
    "    linha_meninas = inf_meninas.readline()\n",
    "    # Lendo todos os nomes de meninos e adicionando ao dicionário correspondente\n",
    "    while linha_meninos != \"\":\n",
    "        partes = linha_meninos.split()\n",
    "        nome = partes[0]\n",
    "        freq = partes[1]\n",
    "        # Contando a frequência para nomes que não estão no dicionário\n",
    "        if nome not in dic_meninos.keys():\n",
    "            dic_meninos[nome] = int(freq)\n",
    "        # Somando para nomes que já estão\n",
    "        else:\n",
    "            dic_meninos[nome] = dic_meninos[nome] + int(freq)\n",
    "        linha_meninos = inf_meninos.readline()\n",
    "    inf_meninos.close()\n",
    "    # Lendo todos os nomes de meninas e adicionando ao dicionário correspondente\n",
    "    while linha_meninas != \"\":\n",
    "        partes = linha_meninas.split()\n",
    "        nome = partes[0]\n",
    "        freq = partes[1]\n",
    "        # Contando a frequência para nomes que não estão no dicionário\n",
    "        if nome not in dic_meninas.keys():\n",
    "            dic_meninas[nome] = int(freq)\n",
    "        # Somando para nomes que já estão\n",
    "        else:\n",
    "            dic_meninas[nome] = dic_meninas[nome] + int(freq)\n",
    "        linha_meninas = inf_meninas.readline()\n",
    "    inf_meninas.close()\n",
    "    # Retorna os dicionários com as frequências para cada nome\n",
    "    return(dic_meninos, dic_meninas)\n",
    "\n",
    "\n",
    "        \n",
    "# Função principal que printa os nomes mais utilizados\n",
    "def main():\n",
    "    # Dicionário vazio que receberá os nomes\n",
    "    dic_meninos = {}\n",
    "    dic_meninas = {}\n",
    "    # Intervalo de tempo dado pelo usuário\n",
    "    primeiro_ano = int(input(\"Insira o primeiro ano do intervalo: \"))\n",
    "    ultimo_ano = int(input(\"Insira o último ano do intervalo: \"))\n",
    "    # Passando por todos os anos no intervalo\n",
    "    for ano  in range(primeiro_ano, ultimo_ano +1):\n",
    "        # Chamando o arquivo de acordo com o ano\n",
    "        meninas_arquivo = \"BabyNames/\" + str(ano) + \\\n",
    "        \"_GirlsNames.txt\"\n",
    "        meninos_arquivo = \"BabyNames/\" + str(ano) + \\\n",
    "        \"_BoysNames.txt\"\n",
    "        # Rodando a função que conta a frequência\n",
    "        carrega_e_conta(meninos_arquivo, meninas_arquivo, dic_meninos, dic_meninas)\n",
    "    # Saída com os resultados\n",
    "    print(\"O nome mais dado para meninos, entre %d e %d, é %s.\" % (primeiro_ano,ultimo_ano,max(dic_meninos, key = dic_meninos.get)))\n",
    "    print(\"O nome mais dado para meninas, entre %d e %d, é %s.\" % (primeiro_ano,ultimo_ano,max(dic_meninas, key = dic_meninas.get)))\n",
    "# Chamando a função principal           \n",
    "main()"
   ]
  },
  {
   "cell_type": "markdown",
   "metadata": {},
   "source": [
    "### Exercise 163: Names that Reached Number One\n",
    "\n",
    "The baby names data set consists of over 200 files. Each file contains a list of 100\n",
    "names, along with the number of times each name was used. Entries in the files are\n",
    "ordered from most frequently used to least frequently used. There are two files for\n",
    "each year: one containing names used for girls and the other containing names used\n",
    "for boys. The data set includes data for every year from 1900 to 2012.\n",
    "Write a program that reads every file in the data set and identifies all of the names\n",
    "that were most popular in at least one year. Your program should output two lists:\n",
    "one containing the most popular names for boys and the other containing the most\n",
    "popular names for girls. Neither of your lists should include any repeated values."
   ]
  },
  {
   "cell_type": "code",
   "execution_count": 57,
   "metadata": {},
   "outputs": [
    {
     "name": "stdout",
     "output_type": "stream",
     "text": [
      "Nomes de meninas mais populares em pelo menos um ano: \n",
      "  Mary\n",
      "  Linda\n",
      "  Lisa\n",
      "  Jennifer\n",
      "  Jessica\n",
      "  Ashley\n",
      "  Emily\n",
      "  Emma\n",
      "  Isabella\n",
      "  Sophia\n",
      "\n",
      "Nomes de meninos mais populares em pelo menos um ano: \n",
      "  John\n",
      "  Robert\n",
      "  James\n",
      "  Michael\n",
      "  David\n",
      "  Jacob\n"
     ]
    }
   ],
   "source": [
    "##\n",
    "# Mostrando todos os nomes que foram os mais populares em pelo menos um ano\n",
    "#\n",
    "primeiro_ano = 1900\n",
    "ultimo_ano = 2012\n",
    "## Lendo a primeira linha do arquivo e adicionando em uma lista de nomes\n",
    "#\n",
    "def carrega_e_adiciona(arquivo, nomes):\n",
    "    # Extraindo o nome na primeira linha\n",
    "    inf = open(arquivo, \"r\")\n",
    "    linha = inf.readline()\n",
    "    inf.close()\n",
    "    partes = linha.split()\n",
    "    nome = partes[0]\n",
    "    # Adiciona o nome na lista se ainda não estiver\n",
    "    if nome not in nomes:\n",
    "        nomes.append(nome)\n",
    "# Mostrando os nomes de meninos e meninas que foram os mais populares em pelo menos 1 ano\n",
    "def main():\n",
    "# Uma lista para cada sexo\n",
    "    meninas = []\n",
    "    meninos = []\n",
    "    # Lendo os arquivos do primeiro ao ultimo ano \n",
    "    for ano in range(primeiro_ano, ultimo_ano + 1):\n",
    "        meninas_arquivo = \"BabyNames/\" + str(ano) + \\\n",
    "        \"_GirlsNames.txt\"\n",
    "        meninos_arquivo = \"BabyNames/\" + str(ano) + \\\n",
    "        \"_BoysNames.txt\"\n",
    "        carrega_e_adiciona(meninas_arquivo, meninas)\n",
    "        carrega_e_adiciona(meninos_arquivo, meninos)\n",
    "    # Printando as listas\n",
    "    print(\"Nomes de meninas mais populares em pelo menos um ano: \")\n",
    "    for nome in meninas:\n",
    "        print(\" \", nome)\n",
    "    print()\n",
    "    print(\"Nomes de meninos mais populares em pelo menos um ano: \")\n",
    "    for nome in meninos:\n",
    "        print(\" \", nome)\n",
    "main()"
   ]
  },
  {
   "cell_type": "markdown",
   "metadata": {},
   "source": [
    "### Exercise 152: Number the Lines in a File\n",
    "\n",
    "Create a program that reads lines from a file, adds line numbers to them, and then\n",
    "stores the numbered lines into a new file. The name of the input file will be read from\n",
    "the user, as will the name of the new file that your program will create. Each line in\n",
    "the output file should begin with the line number, followed by a colon and a space,\n",
    "followed by the line from the input file."
   ]
  },
  {
   "cell_type": "code",
   "execution_count": 8,
   "metadata": {},
   "outputs": [
    {
     "name": "stdout",
     "output_type": "stream",
     "text": [
      "Insira o nome do arquivo para contar suas linhas: elements.txt\n",
      "Insira o nome do arquivo com as linhas contadas: elements_enumerados.txt\n"
     ]
    }
   ],
   "source": [
    "##\n",
    "# Função que enumera as linhas de um arquivo e armazena em outro\n",
    "#\n",
    "def enumerar_linhas(arquivo1, arquivo2):\n",
    "    inf = open(arquivo1, \"r\")\n",
    "    inf2 = open(arquivo2, \"w\")\n",
    "    contador = 1\n",
    "    linha = inf.readline()\n",
    "    lista = []\n",
    "    while linha != \"\":\n",
    "        linha = linha.rstrip()\n",
    "        linha_n = str(contador) + \": \" + linha\n",
    "        lista.append(linha_n)\n",
    "        contador += 1\n",
    "        linha = inf.readline()\n",
    "    for i in lista:\n",
    "        inf2.write(i + \"\\n\")\n",
    "    inf.close()\n",
    "    inf2.close()\n",
    "# Função principal\n",
    "def main():\n",
    "    arquivo1 = input(\"Insira o nome do arquivo para contar suas linhas: \")\n",
    "    arquivo2 = input(\"Insira o nome do arquivo com as linhas contadas: \")\n",
    "    enumerar_linhas(arquivo1, arquivo2)\n",
    "main()"
   ]
  }
 ],
 "metadata": {
  "celltoolbar": "Raw Cell Format",
  "kernelspec": {
   "display_name": "Python 3",
   "language": "python",
   "name": "python3"
  },
  "language_info": {
   "codemirror_mode": {
    "name": "ipython",
    "version": 3
   },
   "file_extension": ".py",
   "mimetype": "text/x-python",
   "name": "python",
   "nbconvert_exporter": "python",
   "pygments_lexer": "ipython3",
   "version": "3.8.5"
  }
 },
 "nbformat": 4,
 "nbformat_minor": 4
}
