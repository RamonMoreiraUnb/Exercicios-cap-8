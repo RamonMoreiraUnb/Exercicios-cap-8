{
 "cells": [
  {
   "cell_type": "markdown",
   "metadata": {},
   "source": [
    "#### Ramon Moreira Gonçalves-180036980"
   ]
  },
  {
   "cell_type": "markdown",
   "metadata": {},
   "source": [
    "### Sorteio"
   ]
  },
  {
   "cell_type": "code",
   "execution_count": 1,
   "metadata": {},
   "outputs": [
    {
     "name": "stdout",
     "output_type": "stream",
     "text": [
      "Escreva o número de sua matricula180036980\n",
      "Você deverá entregar os exercícios:  [182, 177]\n"
     ]
    }
   ],
   "source": [
    "import random\n",
    "\n",
    "def escolhe(matricula):\n",
    "    random.seed(matricula)\n",
    "    cap1 = (2,8,9,11,12,15,16,18,20,21,22,24,26,27,28,30,31,32)    \n",
    "    cap2 = (36,40,44,45,46,48,50,51,53,55,56,57,59,60)\n",
    "    cap3 = (63,64,65,68,71,72,74,76,78,80,81,84)\n",
    "    cap4 = (85,86,87,89,91,92,94,97,99,101,103,104,106)\n",
    "    cap5 = (111,115,117,118,119,122,123,124,126,127,131,132,133)\n",
    "    cap6 = (138,139,140,141,144,147,148)\n",
    "    cap7 = (152,153,154,155,157,160,161,164,165,166,168,171,172)\n",
    "    cap8 = (174,175,176,177,179,181,182,185)\n",
    "    return(random.sample(cap8, k=2))\n",
    "\n",
    "print(\"Você deverá entregar os exercícios: \", escolhe(input(\"Escreva o número de sua matricula\")))"
   ]
  },
  {
   "cell_type": "markdown",
   "metadata": {},
   "source": [
    "### Exercise 177: Roman Numerals\n",
    "\n",
    "As the name implies, Roman numerals were developed in ancient Rome. Even after\n",
    "the Roman empire fell, its numerals continued to be widely used in Europe until the\n",
    "late middle ages, and its numerals are still used in limited circumstances today.\n",
    "Roman numerals are constructed from the letters M, D, C, L, X, V and I which\n",
    "represent 1000, 500, 100, 50, 10, 5 and 1 respectively. The numerals are generally\n",
    "written from largest value to smallest value. When this occurs the value of the number\n",
    "is the sum of the values of all of its numerals. If a smaller value precedes a larger\n",
    "value then the smaller value is subtracted from the larger value that it immediately\n",
    "precedes, and that difference is added to the value of the number.\n",
    "Create a recursive function that converts a Roman numeral to an integer. Your\n",
    "function should process one or two characters at the beginning of the string, and\n",
    "then call itself recursively on all of the unprocessed characters. Use an empty string,\n",
    "which has the value 0, for the base case. In addition, write a main program that reads\n",
    "a Roman numeral from the user and displays its value. You can assume that the value\n",
    "entered by the user is valid. Your program does not need to do any error checking."
   ]
  },
  {
   "cell_type": "code",
   "execution_count": 7,
   "metadata": {},
   "outputs": [
    {
     "name": "stdout",
     "output_type": "stream",
     "text": [
      "Insira a numeração Romana que será convertida em número inteiro: MCDLXXXIV\n",
      "A numeração romana acima, em inteiro:  1484\n"
     ]
    }
   ],
   "source": [
    "##\n",
    "# Covertendo numeração romana em número inteiro\n",
    "#\n",
    "\n",
    "# Função recursiva que coverte romano em inteiro\n",
    "def inteiro(num_romano):\n",
    "    dic_romano = {\"M\":1000,\"D\":500,\"C\":100,\"L\":50,\"X\":10,\"V\":5,\"I\":1}\n",
    "    # Armazena os números inteiros\n",
    "    num_int = 0\n",
    "    if num_romano == \"\":\n",
    "        return num_int\n",
    "    else:\n",
    "        if len(num_romano) == 1:\n",
    "            num_int += dic_romano[num_romano[0]]\n",
    "        else:\n",
    "            # Quando o antecessor é menor que o sucessor\n",
    "            if dic_romano[num_romano[0]] < dic_romano[num_romano[1]]:\n",
    "                num_int +=  dic_romano[num_romano[1]] - dic_romano[num_romano[0]] + inteiro(num_romano[2:])\n",
    "            else:\n",
    "                num_int += dic_romano[num_romano[0]] + inteiro(num_romano[1:])\n",
    "        return num_int\n",
    "# Função principal\n",
    "def main():\n",
    "    numeracao_romana = input(\"Insira a numeração Romana que será convertida em número inteiro: \")\n",
    "    numeracao_romana = numeracao_romana.upper()\n",
    "    print(\"A numeração romana acima, em inteiro: \", inteiro(numeracao_romana))   \n",
    "\n",
    "main()"
   ]
  },
  {
   "cell_type": "markdown",
   "metadata": {},
   "source": [
    "### Exercise 182: Spelling with Element Symbols\n",
    "\n",
    "Each chemical element has a standard symbol that is one, two or three letters long.\n",
    "One game that some people like to play is to determine whether or not a word can be\n",
    "spelled using only element symbols. For example, silicon can be spelled using the\n",
    "symbols Si, Li, C, O and N. However, hydrogen cannot be spelled with any combination of element symbols.\n",
    "Write a recursive function that determines whether or not a word can be spelled\n",
    "using only element symbols. Your function will require two parameters: the word that you are trying to spell and a list of the symbols that can be used. It will return a string containing the symbols used to achieve the spelling as its result, or an empty string if no spelling exists. Capitalization should be ignored when your function\n",
    "searches for a spelling.\n",
    "Create a program that uses your function to find and display all of the element\n",
    "names that can be spelled using only element symbols. Display the names of the elements along with the sequences of symbols. For example, one line of your output will be:\n",
    "\n",
    "Silver can be spelled as SiLvEr\n",
    "\n",
    "Your program will use the elements data set, which can be downloaded from the\n",
    "author’s website. This data set includes the names and symbols of all 118 chemical\n",
    "elements.\n"
   ]
  },
  {
   "cell_type": "code",
   "execution_count": 32,
   "metadata": {},
   "outputs": [
    {
     "name": "stdout",
     "output_type": "stream",
     "text": [
      "Carbon pode ser escrito como CaRbON\n",
      "\n",
      "Neon pode ser escrito como NeON\n",
      "\n",
      "Silicon pode ser escrito como SiLiCoN\n",
      "\n",
      "Phosphorus pode ser escrito como PHoSPHoRuS\n",
      "\n",
      "Iron pode ser escrito como IrON\n",
      "\n",
      "Copper pode ser escrito como CoPPEr\n",
      "\n",
      "Arsenic pode ser escrito como ArSeNiC\n",
      "\n",
      "Krypton pode ser escrito como KrYPtON\n",
      "\n",
      "Silver pode ser escrito como SiLvEr\n",
      "\n",
      "Tin pode ser escrito como TiN\n",
      "\n",
      "Xenon pode ser escrito como XeNoN\n",
      "\n",
      "Bismuth pode ser escrito como BiSmUTh\n",
      "\n",
      "Astatine pode ser escrito como AsTaTiNe\n",
      "\n"
     ]
    }
   ],
   "source": [
    "##\n",
    "# Verificando quais elementos podem ser escritos usando os simbolos dos elementos\n",
    "#\n",
    "# Função recursiva\n",
    "def escrita_elementos(palavra, lista_simbolos):\n",
    "    # simbolos em minúsculo\n",
    "    lista = []\n",
    "    for i in lista_simbolos:\n",
    "        lista.append(i.lower())\n",
    "    #palavra em minúsculo\n",
    "    palavra1 = palavra.lower()\n",
    "    palavra_simbolo = \"\"\n",
    "    # Verificando para os 3 comprimentos possíveis de um símbolo\n",
    "    for i in range(3,0,-1):\n",
    "        # Parar quando tiver uma combinação\n",
    "        if palavra_simbolo == \"\":\n",
    "            if len(palavra) >= i and (palavra1[:i] in lista):\n",
    "                if len(palavra) == i:\n",
    "                    palavra_simbolo += lista_simbolos[lista.index(palavra1)]\n",
    "                else:\n",
    "                    # Roda a função com as letras restantes e armazena a combinação\n",
    "                    palavra_simbolo += lista_simbolos[lista.index(palavra1[:i])] + escrita_elementos(palavra[i:], lista_simbolos)\n",
    "    # Caso a palavra possa ser escrita com os simbolos\n",
    "    if len(palavra_simbolo) == len(palavra):\n",
    "        return palavra_simbolo\n",
    "    else:\n",
    "        return \"\"\n",
    "\n",
    "def main():\n",
    "    elementos = open(\"elements.txt\", \"r\")\n",
    "    #Linha por linha\n",
    "    elemento = elementos.readline()\n",
    "    # Criando 2 listas\n",
    "    nomes = []\n",
    "    simbolos = []\n",
    "    # Lendo todas as linhas do arquivo\n",
    "    while elemento != \"\":\n",
    "        elemento = elemento.replace(\"\\n\", \"\")\n",
    "        elemento_sep = elemento.split(\",\")\n",
    "        simbolos.append(elemento_sep[1])\n",
    "        nomes.append(elemento_sep[2])\n",
    "        elemento = elementos.readline()\n",
    "    elementos.close()\n",
    "    for palavra in nomes:\n",
    "        esc_ele = escrita_elementos(palavra, simbolos)\n",
    "        if esc_ele  != \"\":\n",
    "            print(\"%s pode ser escrito como %s\" % (palavra, esc_ele))\n",
    "            print()\n",
    "\n",
    "main()\n"
   ]
  }
 ],
 "metadata": {
  "celltoolbar": "Raw Cell Format",
  "kernelspec": {
   "display_name": "Python 3",
   "language": "python",
   "name": "python3"
  },
  "language_info": {
   "codemirror_mode": {
    "name": "ipython",
    "version": 3
   },
   "file_extension": ".py",
   "mimetype": "text/x-python",
   "name": "python",
   "nbconvert_exporter": "python",
   "pygments_lexer": "ipython3",
   "version": "3.8.5"
  }
 },
 "nbformat": 4,
 "nbformat_minor": 4
}
